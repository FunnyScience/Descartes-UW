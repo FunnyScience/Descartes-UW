{
 "cells": [
  {
   "cell_type": "code",
   "execution_count": 1,
   "metadata": {},
   "outputs": [],
   "source": [
    "import os\n",
    "import sys\n",
    "import numpy as np\n",
    "import pandas as pd\n",
    "import sklearn as sk\n",
    "import math\n",
    "import matplotlib.pyplot as plt\n",
    "import seaborn as sns\n",
    "from random import sample, seed\n",
    "#---------------------------------------------------------------------------\n",
    "CWD = os.getcwd()\n",
    "# #---------------------------------------------------------------------------\n",
    "# # Setting data paths\n",
    "DATA_PATH = CWD + \"/data/\"\n",
    "RESULT_PATH = CWD + \"/output/\""
   ]
  },
  {
   "cell_type": "markdown",
   "metadata": {},
   "source": [
    "## Problem resume\n",
    "\n",
    "### A. We try to predict a binary target variable (which is likely to be a claim frequency variable (YES/NO))\n",
    "\n",
    "### B . In order to predict the target variable, we have variables describing: \n",
    "\n",
    "- The profile of the driver\n",
    "- The marital/family situation \n",
    "- The usage of car\n",
    "- Historial insurance record\n",
    "\n",
    "### C. Assume that claim frequency suits the Possion distribution since claims happen indenpedently, it is possible to apply a regression model whose target follows a Poisson law. "
   ]
  },
  {
   "cell_type": "markdown",
   "metadata": {},
   "source": [
    "# 1. Data processing"
   ]
  },
  {
   "cell_type": "markdown",
   "metadata": {},
   "source": [
    "## 1.1 Read data"
   ]
  },
  {
   "cell_type": "code",
   "execution_count": 2,
   "metadata": {},
   "outputs": [],
   "source": [
    "data_train = pd.read_csv(DATA_PATH + \"train_auto.csv\", sep=\",\")\n",
    "data_test = pd.read_csv(DATA_PATH + \"test_auto.csv\", sep=\",\")"
   ]
  },
  {
   "cell_type": "code",
   "execution_count": 3,
   "metadata": {},
   "outputs": [],
   "source": [
    "# data_train.describe()"
   ]
  },
  {
   "cell_type": "code",
   "execution_count": 4,
   "metadata": {},
   "outputs": [
    {
     "data": {
      "text/plain": [
       "(8161, 26)"
      ]
     },
     "execution_count": 4,
     "metadata": {},
     "output_type": "execute_result"
    }
   ],
   "source": [
    "data_train.shape"
   ]
  },
  {
   "cell_type": "markdown",
   "metadata": {},
   "source": [
    "## 1.2 Data Processing and Transformation\n",
    "The data is not perfectly in a good form, we need to ensure that all input variables are in good format, process abnormal observations and try to understand predictor variables"
   ]
  },
  {
   "cell_type": "markdown",
   "metadata": {},
   "source": [
    "### Description of predictor variables \n",
    "(There is no description on Kaggle, so I try to guess based on variable name) \n",
    "\n",
    "From some standard EDA functions (describe, min, max, value_counts, isna) \n",
    "1. KIDSDRIV : Number of kids drive the car ? from 0 to 4. int\n",
    "2. AGE : Age of driver from 16 to 81 (6 NA). int\n",
    "3. HOMEKIDS : Number of kids from 1 to 5\n",
    "4. YOJ: Integer variable from 0 to 23\n",
    "5. INCOME: str from 0 to 367 k USD, 445 NaN\n",
    "6. PARENT1: Yes / No\n",
    "7. HOME_VAL: str from to 885kUSD, 464 NaN\n",
    "8. MSTATUS: Marital status Yes / z_No\n",
    "9. SEX : M / z_F\n",
    "10. EDUCATION : z_High School, Bachelors, Masters, <High School, PhD\n",
    "11. JOB : z_Blue Collar, Clerical, Professional, Manager, Lawyer, Student, Home Maker, Doctor\n",
    "12. TRAVTIME : Travel time int from 5 to 41\n",
    "13. CARUSE : Private, Commercial Str\n",
    "14. BLUEBOOK: Str, from 1500 to 69k\n",
    "15. TIF : numeric value from 1 to 25\n",
    "16. CARTYPE: z_SUV, Minivan, Pickup, Sports Car, Van, Panel Truck\n",
    "17. RED_CAR: Yes / No\n",
    "18. OLDCLAIM : Old claim cost from 0 to 57k\n",
    "19. CLM_FREQ : Old claim frequency in from 1 to 5\n",
    "20. REVOKED: Yes / No\n",
    "21. MVR_PTS : Motor record score int from 0 to 13\n",
    "22. CAR_AGE : Age of car int value from 0 to 28 (with an abnormal value of -3)\n",
    "23. URBANICITY :  Highly Urban/ Urban, z_Highly Rural/ Rural"
   ]
  },
  {
   "cell_type": "code",
   "execution_count": 5,
   "metadata": {},
   "outputs": [],
   "source": [
    "data_train.CAR_AGE = np.where(data_train.CAR_AGE < 0, 0, data_train.CAR_AGE)"
   ]
  },
  {
   "cell_type": "markdown",
   "metadata": {},
   "source": [
    "### Design data pipeline for different groups of variables"
   ]
  },
  {
   "cell_type": "markdown",
   "metadata": {},
   "source": [
    "#### Depending on the type of variables, we have a different transformation process:\n",
    "1. For categorical varibales: impute NaN by most frequent modality\n",
    "2. For numerical variables: impute NaN by the median value\n",
    "3. For currency variables: Format the currency form into numeric values, then impute NaN by median value\n",
    "\n",
    "This is not necessarily a good choice to get goodresults, but a generic imputation can be used for a first try"
   ]
  },
  {
   "cell_type": "markdown",
   "metadata": {},
   "source": [
    "#### Group variables into 3 groups depending on  type and format"
   ]
  },
  {
   "cell_type": "code",
   "execution_count": 6,
   "metadata": {},
   "outputs": [],
   "source": [
    "categorical_vars = [\"PARENT1\", \"MSTATUS\", \"SEX\", \"EDUCATION\", \"JOB\", \n",
    "                    \"CAR_USE\", \"CAR_TYPE\", \"RED_CAR\", \"REVOKED\", \"URBANICITY\"]\n",
    "numerical_vars = [\"KIDSDRIV\", \"AGE\", \"HOMEKIDS\", \"YOJ\", \"TRAVTIME\", \"TIF\", \"CLM_FREQ\", \"MVR_PTS\", \"CAR_AGE\"]\n",
    "currency_vars = [\"INCOME\", \"HOME_VAL\", \"BLUEBOOK\", \"OLDCLAIM\"]"
   ]
  },
  {
   "cell_type": "markdown",
   "metadata": {},
   "source": [
    "#### Define different prepocessing actions for each group"
   ]
  },
  {
   "cell_type": "code",
   "execution_count": 7,
   "metadata": {},
   "outputs": [],
   "source": [
    "from sklearn.pipeline import Pipeline\n",
    "from sklearn.impute import SimpleImputer\n",
    "from sklearn.compose import ColumnTransformer\n",
    "from sklearn.preprocessing import FunctionTransformer"
   ]
  },
  {
   "cell_type": "markdown",
   "metadata": {},
   "source": [
    "#### Impute missing numerical values by median, missing categorical vavlues by most frequent"
   ]
  },
  {
   "cell_type": "code",
   "execution_count": 8,
   "metadata": {},
   "outputs": [],
   "source": [
    "numerical_pipeline = Pipeline([('num_imputer', SimpleImputer(strategy='median'))])\n",
    "\n",
    "categorical_pipeline = Pipeline([('cat_imputer', SimpleImputer(strategy='most_frequent'))])"
   ]
  },
  {
   "cell_type": "markdown",
   "metadata": {},
   "source": [
    "#### Define a tranformation for currency variable. We must remove \\\\$ and comma"
   ]
  },
  {
   "cell_type": "code",
   "execution_count": 9,
   "metadata": {},
   "outputs": [],
   "source": [
    "def currency_trans(x):\n",
    "    x = pd.DataFrame(x).replace(to_replace = '[$\\,]', value = '', regex=True).astype(float)\n",
    "    return x"
   ]
  },
  {
   "cell_type": "code",
   "execution_count": 10,
   "metadata": {},
   "outputs": [],
   "source": [
    "currency_pipeline = Pipeline([('cur_trans', FunctionTransformer(func = currency_trans, validate=False)), \n",
    "                              ('cur_imputer', SimpleImputer(strategy='median'))])"
   ]
  },
  {
   "cell_type": "markdown",
   "metadata": {},
   "source": [
    "### Assemble the 3 pipelines into a final data pipeline for data transformation"
   ]
  },
  {
   "cell_type": "code",
   "execution_count": 11,
   "metadata": {},
   "outputs": [],
   "source": [
    "pipeline = ColumnTransformer([('cat', categorical_pipeline, categorical_vars),\n",
    "                              ('num', numerical_pipeline, numerical_vars), \n",
    "                              ('cur', currency_pipeline, currency_vars)], \n",
    "                             remainder='passthrough')"
   ]
  },
  {
   "cell_type": "markdown",
   "metadata": {},
   "source": [
    "## 1.4 Transform all data into good format"
   ]
  },
  {
   "cell_type": "code",
   "execution_count": 12,
   "metadata": {},
   "outputs": [],
   "source": [
    "X_train = data_train[categorical_vars + numerical_vars + currency_vars]\n",
    "y_train = data_train.TARGET_FLAG\n",
    "\n",
    "X_test = data_test[categorical_vars + numerical_vars + currency_vars]"
   ]
  },
  {
   "cell_type": "markdown",
   "metadata": {},
   "source": [
    "#### Used the fitted transformer pipeline to transform data"
   ]
  },
  {
   "cell_type": "code",
   "execution_count": 13,
   "metadata": {},
   "outputs": [],
   "source": [
    "X_train_clean = pipeline.fit_transform(X_train)\n",
    "X_test_clean = pipeline.transform(X_test)\n",
    "\n",
    "X_train_clean = pd.DataFrame(X_train_clean, \n",
    "                             columns = categorical_vars + numerical_vars + currency_vars) \n",
    "X_test_clean = pd.DataFrame(X_test_clean,\n",
    "                             columns = categorical_vars + numerical_vars + currency_vars)"
   ]
  },
  {
   "cell_type": "markdown",
   "metadata": {},
   "source": [
    "## 1.5 Encode categorical variables into numeric"
   ]
  },
  {
   "cell_type": "markdown",
   "metadata": {},
   "source": [
    "#### Install XGBoost, Bayesian Optimisation and Category_encoders if does not exist"
   ]
  },
  {
   "cell_type": "code",
   "execution_count": 14,
   "metadata": {},
   "outputs": [],
   "source": [
    "def install_and_import(package):\n",
    "    import importlib\n",
    "    try:\n",
    "        importlib.import_module(package)\n",
    "    except ImportError:\n",
    "        import pip\n",
    "        pip.main(['install', package])\n",
    "    finally:\n",
    "        globals()[package] = importlib.import_module(package)"
   ]
  },
  {
   "cell_type": "code",
   "execution_count": 15,
   "metadata": {},
   "outputs": [],
   "source": [
    "install_and_import('xgboost')\n",
    "install_and_import('category_encoders')"
   ]
  },
  {
   "cell_type": "code",
   "execution_count": 16,
   "metadata": {},
   "outputs": [
    {
     "name": "stdout",
     "output_type": "stream",
     "text": [
      "Collecting BayesianOptimization\n",
      "  Cloning https://github.com/fmfn/BayesianOptimization.git to /tmp/pip-install-2hk3k1xn/bayesianoptimization\n",
      "\u001b[33m  WARNING: Generating metadata for package BayesianOptimization produced metadata for project name bayesian-optimization. Fix your #egg=BayesianOptimization fragments.\u001b[0m\n",
      "Requirement already satisfied (use --upgrade to upgrade): bayesian-optimization from git+https://github.com/fmfn/BayesianOptimization.git#egg=BayesianOptimization in /home/loki/anaconda3/lib/python3.7/site-packages\n",
      "Requirement already satisfied: numpy>=1.9.0 in /home/loki/anaconda3/lib/python3.7/site-packages (from bayesian-optimization) (1.16.2)\n",
      "Requirement already satisfied: scipy>=0.14.0 in /home/loki/anaconda3/lib/python3.7/site-packages (from bayesian-optimization) (1.1.0)\n",
      "Requirement already satisfied: scikit-learn>=0.18.0 in /home/loki/anaconda3/lib/python3.7/site-packages (from bayesian-optimization) (0.21.2)\n",
      "Requirement already satisfied: joblib>=0.11 in /home/loki/anaconda3/lib/python3.7/site-packages (from scikit-learn>=0.18.0->bayesian-optimization) (0.13.2)\n",
      "Building wheels for collected packages: bayesian-optimization, bayesian-optimization\n",
      "  Building wheel for bayesian-optimization (setup.py) ... \u001b[?25ldone\n",
      "\u001b[?25h  Created wheel for bayesian-optimization: filename=bayesian_optimization-1.2.0-py3-none-any.whl size=13484 sha256=f57f5b02839d78b666fd77393e0489fad90b5afedf17fdac283896a990ec7b15\n",
      "  Stored in directory: /tmp/pip-ephem-wheel-cache-c8yxib07/wheels/ca/43/6a/5c199566b761f91f7433c1bbe48387c6b497162ebedf1adb68\n",
      "  Building wheel for bayesian-optimization (setup.py) ... \u001b[?25ldone\n",
      "\u001b[?25h  Created wheel for bayesian-optimization: filename=bayesian_optimization-1.2.0-py3-none-any.whl size=13484 sha256=f57f5b02839d78b666fd77393e0489fad90b5afedf17fdac283896a990ec7b15\n",
      "  Stored in directory: /home/loki/.cache/pip/wheels/5b/83/30/c32e656ec0f0ead89cacf4d8df6f9e384d6c53741bd3fb5563\n",
      "Successfully built bayesian-optimization bayesian-optimization\n"
     ]
    }
   ],
   "source": [
    "!python -m pip install git+https://github.com/fmfn/BayesianOptimization.git#egg=BayesianOptimization"
   ]
  },
  {
   "cell_type": "markdown",
   "metadata": {},
   "source": [
    "### Encode categorical variables using target encoding\n",
    "#### There are several techniques to do encoding, for a simplied approach, we can choose target encoding for all"
   ]
  },
  {
   "cell_type": "code",
   "execution_count": 17,
   "metadata": {},
   "outputs": [],
   "source": [
    "from category_encoders import TargetEncoder"
   ]
  },
  {
   "cell_type": "code",
   "execution_count": 18,
   "metadata": {},
   "outputs": [
    {
     "name": "stderr",
     "output_type": "stream",
     "text": [
      "/home/loki/anaconda3/lib/python3.7/site-packages/category_encoders/utils.py:21: FutureWarning: is_categorical is deprecated and will be removed in a future version.  Use is_categorical_dtype instead\n",
      "  elif pd.api.types.is_categorical(cols):\n"
     ]
    }
   ],
   "source": [
    "tar_encoder = TargetEncoder(cols=categorical_vars, min_samples_leaf=200, smoothing=20)\n",
    "\n",
    "X_train_encoded = tar_encoder.fit_transform(X_train_clean, y_train)\n",
    "X_test_encoded = tar_encoder.transform(X_test_clean)"
   ]
  },
  {
   "cell_type": "code",
   "execution_count": 19,
   "metadata": {},
   "outputs": [],
   "source": [
    "X_train_encoded = X_train_encoded.astype('float64')\n",
    "X_test_encoded = X_test_encoded.astype('float64')"
   ]
  },
  {
   "cell_type": "markdown",
   "metadata": {},
   "source": [
    "# 2. Modelisation"
   ]
  },
  {
   "cell_type": "code",
   "execution_count": 20,
   "metadata": {},
   "outputs": [],
   "source": [
    "import xgboost as xgb\n",
    "from bayes_opt import BayesianOptimization"
   ]
  },
  {
   "cell_type": "code",
   "execution_count": 21,
   "metadata": {},
   "outputs": [],
   "source": [
    "dtrain = xgb.DMatrix(data=X_train_encoded, label=y_train)\n",
    "dtest = xgb.DMatrix(data=X_test_encoded)"
   ]
  },
  {
   "cell_type": "markdown",
   "metadata": {},
   "source": [
    "## 2.1 Parameter Tuning Bayesian"
   ]
  },
  {
   "cell_type": "markdown",
   "metadata": {},
   "source": [
    "### Parametric function to be optimized in order to find a good hyperparametercombination"
   ]
  },
  {
   "cell_type": "code",
   "execution_count": 22,
   "metadata": {},
   "outputs": [],
   "source": [
    "def xgb_func(max_depth, reg_lambda, reg_alpha, gamma):\n",
    "    params = {'objective': 'count:poisson',\n",
    "              'eta': 0.1,            \n",
    "              'max_depth': math.ceil(max_depth),\n",
    "              'reg_lambda': reg_lambda, \n",
    "              'reg_alpha': reg_alpha,\n",
    "              'gamma': gamma}\n",
    "    \n",
    "    cv_result = xgb.cv(params, dtrain, num_boost_round=1000, nfold=4, seed=0, maximize=False, stratified=True, \n",
    "                           metrics = 'poisson-nloglik', early_stopping_rounds=250, verbose_eval=0)    \n",
    "    \n",
    "    # Return the Log likelihood\n",
    "    return - 1.0 * cv_result.iloc[-1,2]"
   ]
  },
  {
   "cell_type": "markdown",
   "metadata": {},
   "source": [
    "### Define lower/upper bounds of hyperparameters and run optimization"
   ]
  },
  {
   "cell_type": "code",
   "execution_count": 23,
   "metadata": {},
   "outputs": [
    {
     "name": "stdout",
     "output_type": "stream",
     "text": [
      "|   iter    |  target   |   gamma   | max_depth | reg_alpha | reg_la... |\n",
      "-------------------------------------------------------------------------\n",
      "| \u001b[0m 1       \u001b[0m | \u001b[0m-0.5186  \u001b[0m | \u001b[0m 0.5488  \u001b[0m | \u001b[0m 4.861   \u001b[0m | \u001b[0m 3.014   \u001b[0m | \u001b[0m 5.449   \u001b[0m |\n",
      "| \u001b[0m 2       \u001b[0m | \u001b[0m-0.519   \u001b[0m | \u001b[0m 0.4237  \u001b[0m | \u001b[0m 4.584   \u001b[0m | \u001b[0m 2.188   \u001b[0m | \u001b[0m 8.918   \u001b[0m |\n",
      "| \u001b[0m 3       \u001b[0m | \u001b[0m-0.52    \u001b[0m | \u001b[0m 0.9637  \u001b[0m | \u001b[0m 3.534   \u001b[0m | \u001b[0m 3.959   \u001b[0m | \u001b[0m 5.289   \u001b[0m |\n",
      "| \u001b[0m 4       \u001b[0m | \u001b[0m-0.5216  \u001b[0m | \u001b[0m 0.568   \u001b[0m | \u001b[0m 5.702   \u001b[0m | \u001b[0m 0.3552  \u001b[0m | \u001b[0m 0.8713  \u001b[0m |\n",
      "| \u001b[0m 5       \u001b[0m | \u001b[0m-0.5195  \u001b[0m | \u001b[0m 0.02022 \u001b[0m | \u001b[0m 5.33    \u001b[0m | \u001b[0m 3.891   \u001b[0m | \u001b[0m 8.7     \u001b[0m |\n",
      "| \u001b[0m 6       \u001b[0m | \u001b[0m-0.5187  \u001b[0m | \u001b[0m 0.9786  \u001b[0m | \u001b[0m 5.197   \u001b[0m | \u001b[0m 2.307   \u001b[0m | \u001b[0m 7.805   \u001b[0m |\n",
      "| \u001b[0m 7       \u001b[0m | \u001b[0m-0.5196  \u001b[0m | \u001b[0m 0.1183  \u001b[0m | \u001b[0m 4.56    \u001b[0m | \u001b[0m 0.7168  \u001b[0m | \u001b[0m 9.447   \u001b[0m |\n",
      "| \u001b[95m 8       \u001b[0m | \u001b[95m-0.5185  \u001b[0m | \u001b[95m 0.5218  \u001b[0m | \u001b[95m 3.659   \u001b[0m | \u001b[95m 1.323   \u001b[0m | \u001b[95m 7.742   \u001b[0m |\n",
      "| \u001b[0m 9       \u001b[0m | \u001b[0m-0.5203  \u001b[0m | \u001b[0m 0.4562  \u001b[0m | \u001b[0m 4.274   \u001b[0m | \u001b[0m 0.09395 \u001b[0m | \u001b[0m 6.176   \u001b[0m |\n",
      "| \u001b[0m 10      \u001b[0m | \u001b[0m-0.5188  \u001b[0m | \u001b[0m 0.6121  \u001b[0m | \u001b[0m 4.468   \u001b[0m | \u001b[0m 4.719   \u001b[0m | \u001b[0m 6.818   \u001b[0m |\n",
      "| \u001b[0m 11      \u001b[0m | \u001b[0m-0.52    \u001b[0m | \u001b[0m 0.5754  \u001b[0m | \u001b[0m 2.094   \u001b[0m | \u001b[0m 4.822   \u001b[0m | \u001b[0m 10.0    \u001b[0m |\n",
      "| \u001b[0m 12      \u001b[0m | \u001b[0m-0.519   \u001b[0m | \u001b[0m 0.4454  \u001b[0m | \u001b[0m 2.023   \u001b[0m | \u001b[0m 4.805   \u001b[0m | \u001b[0m 9.989   \u001b[0m |\n",
      "| \u001b[0m 13      \u001b[0m | \u001b[0m-0.521   \u001b[0m | \u001b[0m 0.7885  \u001b[0m | \u001b[0m 2.068   \u001b[0m | \u001b[0m 4.82    \u001b[0m | \u001b[0m 9.984   \u001b[0m |\n",
      "| \u001b[95m 14      \u001b[0m | \u001b[95m-0.5183  \u001b[0m | \u001b[95m 0.4177  \u001b[0m | \u001b[95m 2.231   \u001b[0m | \u001b[95m 4.911   \u001b[0m | \u001b[95m 0.0385  \u001b[0m |\n",
      "| \u001b[95m 15      \u001b[0m | \u001b[95m-0.5177  \u001b[0m | \u001b[95m 0.4364  \u001b[0m | \u001b[95m 5.911   \u001b[0m | \u001b[95m 4.868   \u001b[0m | \u001b[95m 0.03408 \u001b[0m |\n",
      "| \u001b[0m 16      \u001b[0m | \u001b[0m-0.5186  \u001b[0m | \u001b[0m 0.2527  \u001b[0m | \u001b[0m 5.61    \u001b[0m | \u001b[0m 4.629   \u001b[0m | \u001b[0m 0.01124 \u001b[0m |\n",
      "| \u001b[0m 17      \u001b[0m | \u001b[0m-0.5182  \u001b[0m | \u001b[0m 0.2466  \u001b[0m | \u001b[0m 5.337   \u001b[0m | \u001b[0m 4.883   \u001b[0m | \u001b[0m 0.03665 \u001b[0m |\n",
      "| \u001b[95m 18      \u001b[0m | \u001b[95m-0.5177  \u001b[0m | \u001b[95m 0.00211 \u001b[0m | \u001b[95m 2.084   \u001b[0m | \u001b[95m 4.936   \u001b[0m | \u001b[95m 0.03392 \u001b[0m |\n",
      "| \u001b[0m 19      \u001b[0m | \u001b[0m-0.5178  \u001b[0m | \u001b[0m 0.09028 \u001b[0m | \u001b[0m 2.216   \u001b[0m | \u001b[0m 4.984   \u001b[0m | \u001b[0m 0.172   \u001b[0m |\n",
      "| \u001b[0m 20      \u001b[0m | \u001b[0m-0.518   \u001b[0m | \u001b[0m 0.02733 \u001b[0m | \u001b[0m 2.025   \u001b[0m | \u001b[0m 4.567   \u001b[0m | \u001b[0m 0.05952 \u001b[0m |\n",
      "=========================================================================\n"
     ]
    }
   ],
   "source": [
    "bayes_bounds = {'max_depth': (2,6),\n",
    "                'reg_lambda': (0,10), \n",
    "                'reg_alpha': (0,5),\n",
    "                'gamma': (0,1)}\n",
    "\n",
    "xgb_bo = BayesianOptimization(f=xgb_func, pbounds=bayes_bounds, verbose=2, random_state=0)\n",
    "\n",
    "xgb_bo.maximize(init_points=10, n_iter=10, acq='ucb')"
   ]
  },
  {
   "cell_type": "code",
   "execution_count": 24,
   "metadata": {},
   "outputs": [],
   "source": [
    "params_xgb_bayes = xgb_bo.res[np.argmax([xgb_bo.res[i]['target'] for i in range(len(xgb_bo.res))])]['params']"
   ]
  },
  {
   "cell_type": "code",
   "execution_count": 25,
   "metadata": {},
   "outputs": [
    {
     "data": {
      "text/plain": [
       "{'gamma': 0.0021099846946817102,\n",
       " 'max_depth': 2.0839454683230434,\n",
       " 'reg_alpha': 4.936033668072534,\n",
       " 'reg_lambda': 0.033920121342183585}"
      ]
     },
     "execution_count": 25,
     "metadata": {},
     "output_type": "execute_result"
    }
   ],
   "source": [
    "params_xgb_bayes"
   ]
  },
  {
   "cell_type": "markdown",
   "metadata": {},
   "source": [
    "### Set hyperparameters"
   ]
  },
  {
   "cell_type": "code",
   "execution_count": 26,
   "metadata": {},
   "outputs": [
    {
     "data": {
      "text/plain": [
       "{'objective': 'count:poisson',\n",
       " 'random_state': 0,\n",
       " 'learning_rate': 0.1,\n",
       " 'base_score': 0.5,\n",
       " 'max_depth': 3,\n",
       " 'gamma': 0.0021099846946817102,\n",
       " 'reg_alpha': 4.936033668072534,\n",
       " 'reg_lambda': 0.033920121342183585}"
      ]
     },
     "execution_count": 26,
     "metadata": {},
     "output_type": "execute_result"
    }
   ],
   "source": [
    "xgb_params = {'objective': 'count:poisson', \n",
    "               'random_state': 0,\n",
    "               'learning_rate': 0.1, \n",
    "               'base_score': 0.5,\n",
    "               'max_depth': math.ceil(params_xgb_bayes['max_depth']),  \n",
    "               'gamma': params_xgb_bayes['gamma'], \n",
    "               'reg_alpha': params_xgb_bayes['reg_alpha'], \n",
    "               'reg_lambda': params_xgb_bayes['reg_lambda']}\n",
    "xgb_params"
   ]
  },
  {
   "cell_type": "markdown",
   "metadata": {},
   "source": [
    "#### Choose best number of boosting trees"
   ]
  },
  {
   "cell_type": "code",
   "execution_count": 27,
   "metadata": {},
   "outputs": [],
   "source": [
    "xgbCV = xgb.cv(xgb_params, dtrain, num_boost_round=5000, seed=0, maximize=False, \n",
    "               early_stopping_rounds=100, nfold=4, verbose_eval=False, metrics='poisson-nloglik')"
   ]
  },
  {
   "cell_type": "code",
   "execution_count": 28,
   "metadata": {},
   "outputs": [],
   "source": [
    "xgb_params['n_estimators'] = xgbCV['test-poisson-nloglik-mean'].idxmin()+1"
   ]
  },
  {
   "cell_type": "code",
   "execution_count": 29,
   "metadata": {},
   "outputs": [
    {
     "data": {
      "text/plain": [
       "373"
      ]
     },
     "execution_count": 29,
     "metadata": {},
     "output_type": "execute_result"
    }
   ],
   "source": [
    "xgb_params['n_estimators'] "
   ]
  },
  {
   "cell_type": "markdown",
   "metadata": {},
   "source": [
    "## 2.2 Training and Prediction"
   ]
  },
  {
   "cell_type": "code",
   "execution_count": 30,
   "metadata": {},
   "outputs": [
    {
     "data": {
      "text/plain": [
       "XGBRegressor(base_score=0.5, booster='gbtree', colsample_bylevel=1,\n",
       "             colsample_bytree=1, gamma=0.0021099846946817102,\n",
       "             importance_type='gain', learning_rate=0.1, max_delta_step=0,\n",
       "             max_depth=3, min_child_weight=1, missing=None, n_estimators=373,\n",
       "             n_jobs=1, nthread=None, objective='count:poisson', random_state=0,\n",
       "             reg_alpha=4.936033668072534, reg_lambda=0.033920121342183585,\n",
       "             scale_pos_weight=1, seed=None, silent=True, subsample=1)"
      ]
     },
     "execution_count": 30,
     "metadata": {},
     "output_type": "execute_result"
    }
   ],
   "source": [
    "xgbModel = xgb.XGBRegressor()\n",
    "xgbModel.set_params(**xgb_params)"
   ]
  },
  {
   "cell_type": "code",
   "execution_count": 31,
   "metadata": {},
   "outputs": [
    {
     "data": {
      "text/plain": [
       "XGBRegressor(base_score=0.5, booster='gbtree', colsample_bylevel=1,\n",
       "             colsample_bytree=1, gamma=0.0021099846946817102,\n",
       "             importance_type='gain', learning_rate=0.1, max_delta_step=0,\n",
       "             max_depth=3, min_child_weight=1, missing=None, n_estimators=373,\n",
       "             n_jobs=1, nthread=None, objective='count:poisson', random_state=0,\n",
       "             reg_alpha=4.936033668072534, reg_lambda=0.033920121342183585,\n",
       "             scale_pos_weight=1, seed=None, silent=True, subsample=1)"
      ]
     },
     "execution_count": 31,
     "metadata": {},
     "output_type": "execute_result"
    }
   ],
   "source": [
    "xgbModel.fit(X_train_encoded, y_train)"
   ]
  },
  {
   "cell_type": "code",
   "execution_count": 32,
   "metadata": {},
   "outputs": [],
   "source": [
    "y_pred_train = xgbModel.predict(X_train_encoded)\n",
    "y_pred_test = xgbModel.predict(X_test_encoded)"
   ]
  },
  {
   "cell_type": "markdown",
   "metadata": {},
   "source": [
    "## 2.3 Evaluation"
   ]
  },
  {
   "cell_type": "code",
   "execution_count": 33,
   "metadata": {},
   "outputs": [],
   "source": [
    "from sklearn.metrics import roc_auc_score, roc_curve, auc"
   ]
  },
  {
   "cell_type": "code",
   "execution_count": 34,
   "metadata": {},
   "outputs": [
    {
     "name": "stdout",
     "output_type": "stream",
     "text": [
      "0.8863216052539948\n"
     ]
    },
    {
     "data": {
      "image/png": "[encoded data removed]",
      "text/plain": [
       "<Figure size 360x360 with 1 Axes>"
      ]
     },
     "metadata": {
      "needs_background": "light"
     },
     "output_type": "display_data"
    }
   ],
   "source": [
    "fpr, tpr, _ = roc_curve(y_train, y_pred_train)\n",
    "roc_auc_xgb = auc(fpr, tpr)\n",
    "print(roc_auc_xgb)\n",
    "## COURBE\n",
    "plt.figure(figsize=(5, 5))\n",
    "plt.plot(fpr, tpr, color='Green',\n",
    "        lw=2, label='ROC Curve XGB Bayesian (area = %0.2f)' % roc_auc_xgb)\n",
    "plt.plot([0, 1], [0, 1], color='pink', lw=2, linestyle='--')\n",
    "plt.xlim([-0.02, 1.0])\n",
    "plt.ylim([0.0, 1.05])\n",
    "plt.xlabel('False Positive Rate')\n",
    "plt.ylabel('True Positive Rate')\n",
    "plt.title('ROC Curve')\n",
    "plt.legend(loc=\"lower right\")\n",
    "plt.show()"
   ]
  },
  {
   "cell_type": "markdown",
   "metadata": {},
   "source": [
    "### Feature importance"
   ]
  },
  {
   "cell_type": "code",
   "execution_count": 35,
   "metadata": {},
   "outputs": [
    {
     "data": {
      "text/html": [
       "<div>\n",
       "<style scoped>\n",
       "    .dataframe tbody tr th:only-of-type {\n",
       "        vertical-align: middle;\n",
       "    }\n",
       "\n",
       "    .dataframe tbody tr th {\n",
       "        vertical-align: top;\n",
       "    }\n",
       "\n",
       "    .dataframe thead th {\n",
       "        text-align: right;\n",
       "    }\n",
       "</style>\n",
       "<table border=\"1\" class=\"dataframe\">\n",
       "  <thead>\n",
       "    <tr style=\"text-align: right;\">\n",
       "      <th></th>\n",
       "      <th>Importance</th>\n",
       "      <th>Feature</th>\n",
       "    </tr>\n",
       "  </thead>\n",
       "  <tbody>\n",
       "    <tr>\n",
       "      <th>0</th>\n",
       "      <td>0.006377</td>\n",
       "      <td>SEX</td>\n",
       "    </tr>\n",
       "    <tr>\n",
       "      <th>1</th>\n",
       "      <td>0.006977</td>\n",
       "      <td>YOJ</td>\n",
       "    </tr>\n",
       "    <tr>\n",
       "      <th>2</th>\n",
       "      <td>0.007294</td>\n",
       "      <td>CAR_AGE</td>\n",
       "    </tr>\n",
       "    <tr>\n",
       "      <th>3</th>\n",
       "      <td>0.008214</td>\n",
       "      <td>CLM_FREQ</td>\n",
       "    </tr>\n",
       "    <tr>\n",
       "      <th>4</th>\n",
       "      <td>0.010248</td>\n",
       "      <td>RED_CAR</td>\n",
       "    </tr>\n",
       "    <tr>\n",
       "      <th>5</th>\n",
       "      <td>0.014022</td>\n",
       "      <td>BLUEBOOK</td>\n",
       "    </tr>\n",
       "    <tr>\n",
       "      <th>6</th>\n",
       "      <td>0.016197</td>\n",
       "      <td>INCOME</td>\n",
       "    </tr>\n",
       "    <tr>\n",
       "      <th>7</th>\n",
       "      <td>0.017395</td>\n",
       "      <td>TRAVTIME</td>\n",
       "    </tr>\n",
       "    <tr>\n",
       "      <th>8</th>\n",
       "      <td>0.020615</td>\n",
       "      <td>AGE</td>\n",
       "    </tr>\n",
       "    <tr>\n",
       "      <th>9</th>\n",
       "      <td>0.021318</td>\n",
       "      <td>HOMEKIDS</td>\n",
       "    </tr>\n",
       "    <tr>\n",
       "      <th>10</th>\n",
       "      <td>0.023864</td>\n",
       "      <td>TIF</td>\n",
       "    </tr>\n",
       "    <tr>\n",
       "      <th>11</th>\n",
       "      <td>0.029347</td>\n",
       "      <td>MVR_PTS</td>\n",
       "    </tr>\n",
       "    <tr>\n",
       "      <th>12</th>\n",
       "      <td>0.031766</td>\n",
       "      <td>HOME_VAL</td>\n",
       "    </tr>\n",
       "    <tr>\n",
       "      <th>13</th>\n",
       "      <td>0.044260</td>\n",
       "      <td>CAR_USE</td>\n",
       "    </tr>\n",
       "    <tr>\n",
       "      <th>14</th>\n",
       "      <td>0.046071</td>\n",
       "      <td>CAR_TYPE</td>\n",
       "    </tr>\n",
       "    <tr>\n",
       "      <th>15</th>\n",
       "      <td>0.053396</td>\n",
       "      <td>MSTATUS</td>\n",
       "    </tr>\n",
       "    <tr>\n",
       "      <th>16</th>\n",
       "      <td>0.058385</td>\n",
       "      <td>REVOKED</td>\n",
       "    </tr>\n",
       "    <tr>\n",
       "      <th>17</th>\n",
       "      <td>0.061692</td>\n",
       "      <td>OLDCLAIM</td>\n",
       "    </tr>\n",
       "    <tr>\n",
       "      <th>18</th>\n",
       "      <td>0.063925</td>\n",
       "      <td>KIDSDRIV</td>\n",
       "    </tr>\n",
       "    <tr>\n",
       "      <th>19</th>\n",
       "      <td>0.064652</td>\n",
       "      <td>JOB</td>\n",
       "    </tr>\n",
       "    <tr>\n",
       "      <th>20</th>\n",
       "      <td>0.066933</td>\n",
       "      <td>EDUCATION</td>\n",
       "    </tr>\n",
       "    <tr>\n",
       "      <th>21</th>\n",
       "      <td>0.095468</td>\n",
       "      <td>PARENT1</td>\n",
       "    </tr>\n",
       "    <tr>\n",
       "      <th>22</th>\n",
       "      <td>0.231583</td>\n",
       "      <td>URBANICITY</td>\n",
       "    </tr>\n",
       "  </tbody>\n",
       "</table>\n",
       "</div>"
      ],
      "text/plain": [
       "    Importance     Feature\n",
       "0     0.006377         SEX\n",
       "1     0.006977         YOJ\n",
       "2     0.007294     CAR_AGE\n",
       "3     0.008214    CLM_FREQ\n",
       "4     0.010248     RED_CAR\n",
       "5     0.014022    BLUEBOOK\n",
       "6     0.016197      INCOME\n",
       "7     0.017395    TRAVTIME\n",
       "8     0.020615         AGE\n",
       "9     0.021318    HOMEKIDS\n",
       "10    0.023864         TIF\n",
       "11    0.029347     MVR_PTS\n",
       "12    0.031766    HOME_VAL\n",
       "13    0.044260     CAR_USE\n",
       "14    0.046071    CAR_TYPE\n",
       "15    0.053396     MSTATUS\n",
       "16    0.058385     REVOKED\n",
       "17    0.061692    OLDCLAIM\n",
       "18    0.063925    KIDSDRIV\n",
       "19    0.064652         JOB\n",
       "20    0.066933   EDUCATION\n",
       "21    0.095468     PARENT1\n",
       "22    0.231583  URBANICITY"
      ]
     },
     "execution_count": 35,
     "metadata": {},
     "output_type": "execute_result"
    }
   ],
   "source": [
    "feature_xgb_bayes = pd.DataFrame(sorted(zip(xgbModel.feature_importances_,\n",
    "                                            X_test_encoded.columns)), \n",
    "                            columns=['Importance','Feature'])\n",
    "\n",
    "feature_xgb_bayes"
   ]
  },
  {
   "cell_type": "markdown",
   "metadata": {},
   "source": [
    "### Export results"
   ]
  },
  {
   "cell_type": "code",
   "execution_count": 36,
   "metadata": {},
   "outputs": [],
   "source": [
    "train_results = pd.DataFrame({'INDEX': data_train.INDEX, 'predict_proba': y_pred_train})\n",
    "test_results = pd.DataFrame({'INDEX': data_test.INDEX, 'predict_proba': y_pred_test})"
   ]
  },
  {
   "cell_type": "markdown",
   "metadata": {},
   "source": [
    "#### Chosing threshold so that the output has a correct negative/positive ratio"
   ]
  },
  {
   "cell_type": "code",
   "execution_count": 37,
   "metadata": {},
   "outputs": [
    {
     "data": {
      "text/plain": [
       "0.2638157088592084"
      ]
     },
     "execution_count": 37,
     "metadata": {},
     "output_type": "execute_result"
    }
   ],
   "source": [
    "y_train.mean()"
   ]
  },
  {
   "cell_type": "code",
   "execution_count": 38,
   "metadata": {},
   "outputs": [
    {
     "data": {
      "text/plain": [
       "0    6008\n",
       "1    2153\n",
       "Name: TARGET_FLAG, dtype: int64"
      ]
     },
     "execution_count": 38,
     "metadata": {},
     "output_type": "execute_result"
    }
   ],
   "source": [
    "y_train.value_counts()"
   ]
  },
  {
   "cell_type": "code",
   "execution_count": 39,
   "metadata": {},
   "outputs": [],
   "source": [
    "# Here, approximately, 26.5% of the target variable observations are positive\n",
    "# Choose the threshold based on the train data set so that 26.5% on train set is 1, then use this for test set"
   ]
  },
  {
   "cell_type": "code",
   "execution_count": 40,
   "metadata": {},
   "outputs": [],
   "source": [
    "sorted_predict_proba = train_results.predict_proba.sort_values(ignore_index=True)\n",
    "threshold = sorted_predict_proba[round(len(y_train)*(1-y_train.mean()))]"
   ]
  },
  {
   "cell_type": "code",
   "execution_count": 41,
   "metadata": {},
   "outputs": [],
   "source": [
    "train_results['predict'] = (train_results.predict_proba >= threshold).astype(int)\n",
    "test_results['predict'] = (test_results.predict_proba >= threshold).astype(int)"
   ]
  },
  {
   "cell_type": "code",
   "execution_count": 42,
   "metadata": {},
   "outputs": [
    {
     "data": {
      "text/plain": [
       "0    6008\n",
       "1    2153\n",
       "Name: predict, dtype: int64"
      ]
     },
     "execution_count": 42,
     "metadata": {},
     "output_type": "execute_result"
    }
   ],
   "source": [
    "train_results.predict.value_counts()"
   ]
  },
  {
   "cell_type": "code",
   "execution_count": 43,
   "metadata": {},
   "outputs": [
    {
     "data": {
      "text/html": [
       "<div>\n",
       "<style scoped>\n",
       "    .dataframe tbody tr th:only-of-type {\n",
       "        vertical-align: middle;\n",
       "    }\n",
       "\n",
       "    .dataframe tbody tr th {\n",
       "        vertical-align: top;\n",
       "    }\n",
       "\n",
       "    .dataframe thead th {\n",
       "        text-align: right;\n",
       "    }\n",
       "</style>\n",
       "<table border=\"1\" class=\"dataframe\">\n",
       "  <thead>\n",
       "    <tr style=\"text-align: right;\">\n",
       "      <th></th>\n",
       "      <th>INDEX</th>\n",
       "      <th>predict_proba</th>\n",
       "      <th>predict</th>\n",
       "    </tr>\n",
       "  </thead>\n",
       "  <tbody>\n",
       "    <tr>\n",
       "      <th>0</th>\n",
       "      <td>3</td>\n",
       "      <td>0.129406</td>\n",
       "      <td>0</td>\n",
       "    </tr>\n",
       "    <tr>\n",
       "      <th>1</th>\n",
       "      <td>9</td>\n",
       "      <td>0.332646</td>\n",
       "      <td>0</td>\n",
       "    </tr>\n",
       "    <tr>\n",
       "      <th>2</th>\n",
       "      <td>10</td>\n",
       "      <td>0.066619</td>\n",
       "      <td>0</td>\n",
       "    </tr>\n",
       "    <tr>\n",
       "      <th>3</th>\n",
       "      <td>18</td>\n",
       "      <td>0.107523</td>\n",
       "      <td>0</td>\n",
       "    </tr>\n",
       "    <tr>\n",
       "      <th>4</th>\n",
       "      <td>21</td>\n",
       "      <td>0.079625</td>\n",
       "      <td>0</td>\n",
       "    </tr>\n",
       "    <tr>\n",
       "      <th>...</th>\n",
       "      <td>...</td>\n",
       "      <td>...</td>\n",
       "      <td>...</td>\n",
       "    </tr>\n",
       "    <tr>\n",
       "      <th>2136</th>\n",
       "      <td>10279</td>\n",
       "      <td>0.409516</td>\n",
       "      <td>1</td>\n",
       "    </tr>\n",
       "    <tr>\n",
       "      <th>2137</th>\n",
       "      <td>10281</td>\n",
       "      <td>0.036795</td>\n",
       "      <td>0</td>\n",
       "    </tr>\n",
       "    <tr>\n",
       "      <th>2138</th>\n",
       "      <td>10285</td>\n",
       "      <td>0.013538</td>\n",
       "      <td>0</td>\n",
       "    </tr>\n",
       "    <tr>\n",
       "      <th>2139</th>\n",
       "      <td>10294</td>\n",
       "      <td>0.236491</td>\n",
       "      <td>0</td>\n",
       "    </tr>\n",
       "    <tr>\n",
       "      <th>2140</th>\n",
       "      <td>10300</td>\n",
       "      <td>0.172458</td>\n",
       "      <td>0</td>\n",
       "    </tr>\n",
       "  </tbody>\n",
       "</table>\n",
       "<p>2141 rows × 3 columns</p>\n",
       "</div>"
      ],
      "text/plain": [
       "      INDEX  predict_proba  predict\n",
       "0         3       0.129406        0\n",
       "1         9       0.332646        0\n",
       "2        10       0.066619        0\n",
       "3        18       0.107523        0\n",
       "4        21       0.079625        0\n",
       "...     ...            ...      ...\n",
       "2136  10279       0.409516        1\n",
       "2137  10281       0.036795        0\n",
       "2138  10285       0.013538        0\n",
       "2139  10294       0.236491        0\n",
       "2140  10300       0.172458        0\n",
       "\n",
       "[2141 rows x 3 columns]"
      ]
     },
     "execution_count": 43,
     "metadata": {},
     "output_type": "execute_result"
    }
   ],
   "source": [
    "test_results"
   ]
  },
  {
   "cell_type": "code",
   "execution_count": 44,
   "metadata": {
    "scrolled": true
   },
   "outputs": [],
   "source": [
    "test_results[[\"INDEX\", \"predict\"]].to_csv(RESULT_PATH + \"pred_test.csv\", sep = \",\", index=False)"
   ]
  },
  {
   "cell_type": "code",
   "execution_count": null,
   "metadata": {},
   "outputs": [],
   "source": []
  }
 ],
 "metadata": {
  "kernelspec": {
   "display_name": "Python 3",
   "language": "python",
   "name": "python3"
  },
  "language_info": {
   "codemirror_mode": {
    "name": "ipython",
    "version": 3
   },
   "file_extension": ".py",
   "mimetype": "text/x-python",
   "name": "python",
   "nbconvert_exporter": "python",
   "pygments_lexer": "ipython3",
   "version": "3.7.9"
  }
 },
 "nbformat": 4,
 "nbformat_minor": 2
}
